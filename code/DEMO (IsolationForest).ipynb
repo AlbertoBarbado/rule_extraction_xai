{
 "cells": [
  {
   "cell_type": "markdown",
   "metadata": {},
   "source": [
    "# Rule Extraction and XAI metrics"
   ]
  },
  {
   "cell_type": "code",
   "execution_count": 1,
   "metadata": {
    "scrolled": true
   },
   "outputs": [],
   "source": [
    "import numpy as np\n",
    "import pandas as pd\n",
    "import os\n",
    "import sys\n",
    "import warnings\n",
    "warnings.filterwarnings(\"ignore\")\n",
    "\n",
    "from sklearn.ensemble import IsolationForest\n",
    "from sklearn.metrics import classification_report\n",
    "from lib.xai_auxiliary_rule_extraction import generateRuleHypercubes\n",
    "from lib.xai_rule_metrics import (checkFidelity, \n",
    "                                  checkStability,\n",
    "                                  checkDiversity)\n",
    "from lib.xai_tools import plot_2D, loadDatasets"
   ]
  },
  {
   "cell_type": "markdown",
   "metadata": {},
   "source": [
    "### 1. Load Data & Get Anomalies"
   ]
  },
  {
   "cell_type": "code",
   "execution_count": 2,
   "metadata": {},
   "outputs": [
    {
     "data": {
      "text/html": [
       "<div>\n",
       "<style scoped>\n",
       "    .dataframe tbody tr th:only-of-type {\n",
       "        vertical-align: middle;\n",
       "    }\n",
       "\n",
       "    .dataframe tbody tr th {\n",
       "        vertical-align: top;\n",
       "    }\n",
       "\n",
       "    .dataframe thead th {\n",
       "        text-align: right;\n",
       "    }\n",
       "</style>\n",
       "<table border=\"1\" class=\"dataframe\">\n",
       "  <thead>\n",
       "    <tr style=\"text-align: right;\">\n",
       "      <th></th>\n",
       "      <th>gdenergy</th>\n",
       "      <th>gdpuls</th>\n",
       "      <th>target_class</th>\n",
       "    </tr>\n",
       "  </thead>\n",
       "  <tbody>\n",
       "    <tr>\n",
       "      <th>0</th>\n",
       "      <td>-72</td>\n",
       "      <td>-72</td>\n",
       "      <td>1</td>\n",
       "    </tr>\n",
       "    <tr>\n",
       "      <th>1</th>\n",
       "      <td>-70</td>\n",
       "      <td>-79</td>\n",
       "      <td>1</td>\n",
       "    </tr>\n",
       "    <tr>\n",
       "      <th>2</th>\n",
       "      <td>-81</td>\n",
       "      <td>-78</td>\n",
       "      <td>1</td>\n",
       "    </tr>\n",
       "    <tr>\n",
       "      <th>3</th>\n",
       "      <td>-23</td>\n",
       "      <td>40</td>\n",
       "      <td>1</td>\n",
       "    </tr>\n",
       "    <tr>\n",
       "      <th>4</th>\n",
       "      <td>-63</td>\n",
       "      <td>-52</td>\n",
       "      <td>1</td>\n",
       "    </tr>\n",
       "  </tbody>\n",
       "</table>\n",
       "</div>"
      ],
      "text/plain": [
       "   gdenergy  gdpuls  target_class\n",
       "0       -72     -72             1\n",
       "1       -70     -79             1\n",
       "2       -81     -78             1\n",
       "3       -23      40             1\n",
       "4       -63     -52             1"
      ]
     },
     "execution_count": 2,
     "metadata": {},
     "output_type": "execute_result"
    }
   ],
   "source": [
    "# Load data\n",
    "df_input, _, _ = loadDatasets(f_name = \"seismic-bumps\")\n",
    "numerical_cols = [\"gdenergy\", \"gdpuls\"]  # 2D\n",
    "categorical_cols = []\n",
    "df_input = (df_input[numerical_cols + categorical_cols + ['target_class']]\n",
    "            .drop_duplicates(subset = numerical_cols + categorical_cols)\n",
    "            )\n",
    "df_input.head()"
   ]
  },
  {
   "cell_type": "code",
   "execution_count": 3,
   "metadata": {},
   "outputs": [
    {
     "data": {
      "text/html": [
       "<div>\n",
       "<style scoped>\n",
       "    .dataframe tbody tr th:only-of-type {\n",
       "        vertical-align: middle;\n",
       "    }\n",
       "\n",
       "    .dataframe tbody tr th {\n",
       "        vertical-align: top;\n",
       "    }\n",
       "\n",
       "    .dataframe thead th {\n",
       "        text-align: right;\n",
       "    }\n",
       "</style>\n",
       "<table border=\"1\" class=\"dataframe\">\n",
       "  <thead>\n",
       "    <tr style=\"text-align: right;\">\n",
       "      <th></th>\n",
       "      <th>gdenergy</th>\n",
       "      <th>gdpuls</th>\n",
       "      <th>target_class</th>\n",
       "      <th>predictions</th>\n",
       "      <th>dist</th>\n",
       "      <th>score</th>\n",
       "    </tr>\n",
       "  </thead>\n",
       "  <tbody>\n",
       "    <tr>\n",
       "      <th>0</th>\n",
       "      <td>-72</td>\n",
       "      <td>-72</td>\n",
       "      <td>1</td>\n",
       "      <td>1</td>\n",
       "      <td>0.020188</td>\n",
       "      <td>0.020188</td>\n",
       "    </tr>\n",
       "    <tr>\n",
       "      <th>1</th>\n",
       "      <td>-70</td>\n",
       "      <td>-79</td>\n",
       "      <td>1</td>\n",
       "      <td>-1</td>\n",
       "      <td>-0.007838</td>\n",
       "      <td>-0.007838</td>\n",
       "    </tr>\n",
       "    <tr>\n",
       "      <th>2</th>\n",
       "      <td>-81</td>\n",
       "      <td>-78</td>\n",
       "      <td>1</td>\n",
       "      <td>-1</td>\n",
       "      <td>-0.012287</td>\n",
       "      <td>-0.012287</td>\n",
       "    </tr>\n",
       "    <tr>\n",
       "      <th>3</th>\n",
       "      <td>-23</td>\n",
       "      <td>40</td>\n",
       "      <td>1</td>\n",
       "      <td>1</td>\n",
       "      <td>0.017676</td>\n",
       "      <td>0.017676</td>\n",
       "    </tr>\n",
       "    <tr>\n",
       "      <th>4</th>\n",
       "      <td>-63</td>\n",
       "      <td>-52</td>\n",
       "      <td>1</td>\n",
       "      <td>1</td>\n",
       "      <td>0.052311</td>\n",
       "      <td>0.052311</td>\n",
       "    </tr>\n",
       "  </tbody>\n",
       "</table>\n",
       "</div>"
      ],
      "text/plain": [
       "   gdenergy  gdpuls  target_class  predictions      dist     score\n",
       "0       -72     -72             1            1  0.020188  0.020188\n",
       "1       -70     -79             1           -1 -0.007838 -0.007838\n",
       "2       -81     -78             1           -1 -0.012287 -0.012287\n",
       "3       -23      40             1            1  0.017676  0.017676\n",
       "4       -63     -52             1            1  0.052311  0.052311"
      ]
     },
     "execution_count": 3,
     "metadata": {},
     "output_type": "execute_result"
    }
   ],
   "source": [
    "# Train model & Get predictions\n",
    "df_train = df_input.copy().drop(columns=['target_class'])\n",
    "clf = IsolationForest()\n",
    "y_pred_train = clf.fit_predict(df_train)\n",
    "dist = clf.decision_function(df_train)\n",
    "df_anomalies = df_input.copy()\n",
    "df_anomalies[\"predictions\"] = y_pred_train\n",
    "df_anomalies[\"dist\"] = dist\n",
    "df_anomalies[\"score\"] = clf.decision_function(df_train)\n",
    "df_anomalies.head()"
   ]
  },
  {
   "cell_type": "code",
   "execution_count": 4,
   "metadata": {
    "collapsed": true
   },
   "outputs": [],
   "source": [
    "# Paths\n",
    "path_folder = \"pruebasIF\"\n",
    "file_template = \"SkopeRules_IF\"\n",
    "\n",
    "method = \"SkopeRules\"\n",
    "# list_methods = [\"DecisionTree\", \"RuleFit\", \"FRL\", \"SkopeRules\", \"DecisionRuleList\", \"brlg\", \"logrr\"]"
   ]
  },
  {
   "cell_type": "markdown",
   "metadata": {},
   "source": [
    "### 2. Get Rules as Hypercubes"
   ]
  },
  {
   "cell_type": "code",
   "execution_count": 5,
   "metadata": {
    "scrolled": true
   },
   "outputs": [
    {
     "name": "stdout",
     "output_type": "stream",
     "text": [
      "Obtaining Rules using SkopeRules...\n",
      "Checking inliers inside hypercubes...\n",
      "Turning rules to hypercubes...\n",
      "Iter 0/19\n",
      "Iter 1/19\n",
      "Iter 2/19\n",
      "Iter 3/19\n",
      "Iter 4/19\n",
      "Iter 5/19\n",
      "Iter 6/19\n",
      "Iter 7/19\n",
      "Iter 8/19\n",
      "Iter 9/19\n",
      "Iter 10/19\n",
      "Iter 11/19\n",
      "Iter 12/19\n",
      "Iter 13/19\n",
      "Iter 14/19\n",
      "Iter 15/19\n",
      "Iter 16/19\n",
      "Iter 17/19\n",
      "Iter 18/19\n",
      "No more improvements... finishing up\n",
      "Obtaining Rules using SkopeRules...\n",
      "Checking inliers inside hypercubes...\n",
      "Turning rules to hypercubes...\n",
      "Iter 0/45\n",
      "Iter 1/45\n",
      "Iter 2/45\n",
      "Iter 3/45\n",
      "Iter 4/45\n",
      "Iter 5/45\n",
      "Iter 6/45\n",
      "Iter 7/45\n",
      "Iter 8/45\n",
      "Iter 9/45\n",
      "Iter 10/45\n",
      "Iter 11/45\n",
      "Iter 12/45\n",
      "Iter 13/45\n",
      "Iter 14/45\n",
      "Iter 15/45\n",
      "Iter 16/45\n",
      "Iter 17/45\n",
      "Iter 18/45\n",
      "Iter 19/45\n",
      "Iter 20/45\n",
      "Iter 21/45\n",
      "Iter 22/45\n",
      "Iter 23/45\n",
      "Iter 24/45\n",
      "Iter 25/45\n",
      "Iter 26/45\n",
      "Iter 27/45\n",
      "Iter 28/45\n",
      "Iter 29/45\n",
      "Iter 30/45\n",
      "Iter 31/45\n",
      "Iter 32/45\n",
      "Iter 33/45\n",
      "Iter 34/45\n",
      "Iter 35/45\n",
      "Iter 36/45\n",
      "Iter 37/45\n",
      "Iter 38/45\n",
      "Iter 39/45\n",
      "Iter 40/45\n",
      "Iter 41/45\n",
      "Iter 42/45\n",
      "Iter 43/45\n",
      "Iter 44/45\n",
      "No more improvements... finishing up\n"
     ]
    },
    {
     "data": {
      "text/html": [
       "<div>\n",
       "<style scoped>\n",
       "    .dataframe tbody tr th:only-of-type {\n",
       "        vertical-align: middle;\n",
       "    }\n",
       "\n",
       "    .dataframe tbody tr th {\n",
       "        vertical-align: top;\n",
       "    }\n",
       "\n",
       "    .dataframe thead th {\n",
       "        text-align: right;\n",
       "    }\n",
       "</style>\n",
       "<table border=\"1\" class=\"dataframe\">\n",
       "  <thead>\n",
       "    <tr style=\"text-align: right;\">\n",
       "      <th></th>\n",
       "      <th>gdenergy_max</th>\n",
       "      <th>gdenergy_min</th>\n",
       "      <th>gdpuls_max</th>\n",
       "      <th>gdpuls_min</th>\n",
       "      <th>size_rules</th>\n",
       "      <th>rules_prediction</th>\n",
       "    </tr>\n",
       "    <tr>\n",
       "      <th>index</th>\n",
       "      <th></th>\n",
       "      <th></th>\n",
       "      <th></th>\n",
       "      <th></th>\n",
       "      <th></th>\n",
       "      <th></th>\n",
       "    </tr>\n",
       "  </thead>\n",
       "  <tbody>\n",
       "    <tr>\n",
       "      <th>4</th>\n",
       "      <td>130.0</td>\n",
       "      <td>-inf</td>\n",
       "      <td>97.5</td>\n",
       "      <td>-78.5</td>\n",
       "      <td>3</td>\n",
       "      <td>1</td>\n",
       "    </tr>\n",
       "  </tbody>\n",
       "</table>\n",
       "</div>"
      ],
      "text/plain": [
       "       gdenergy_max  gdenergy_min  gdpuls_max  gdpuls_min  size_rules  \\\n",
       "index                                                                   \n",
       "4             130.0          -inf        97.5       -78.5           3   \n",
       "\n",
       "       rules_prediction  \n",
       "index                    \n",
       "4                     1  "
      ]
     },
     "execution_count": 5,
     "metadata": {},
     "output_type": "execute_result"
    }
   ],
   "source": [
    "## 1. Get Rules (Hypercube)\n",
    "# Define hyperparams for the XAI model\n",
    "model_params = {}\n",
    "# Generate rules hypercubes\n",
    "df_rules_inliers, df_rules_outliers = generateRuleHypercubes(\n",
    "    df_anomalies = df_anomalies,\n",
    "    numerical_cols = numerical_cols,\n",
    "    categorical_cols = categorical_cols,\n",
    "    method = method,\n",
    "    simplify_rules = True,\n",
    "    model_params = model_params,\n",
    ")\n",
    "df_rules_inliers.head()"
   ]
  },
  {
   "cell_type": "code",
   "execution_count": 6,
   "metadata": {},
   "outputs": [
    {
     "data": {
      "image/png": "[encoded data removed]",
      "text/plain": [
       "<Figure size 864x576 with 1 Axes>"
      ]
     },
     "metadata": {
      "needs_background": "light"
     },
     "output_type": "display_data"
    },
    {
     "data": {
      "image/png": "[encoded data removed]",
      "text/plain": [
       "<Figure size 864x576 with 1 Axes>"
      ]
     },
     "metadata": {
      "needs_background": "light"
     },
     "output_type": "display_data"
    }
   ],
   "source": [
    "## 2. Plot Results [Only for 2D]\n",
    "max_replace = df_input.max().max() + np.abs(df_input.max().max()) * 0.1\n",
    "min_replace = df_input.min().min() - np.abs(df_input.min().min()) * 0.1\n",
    "df_inliers_plot = (\n",
    "    df_rules_inliers.copy()\n",
    "    .replace(np.inf, max_replace)\n",
    "    .replace(-np.inf, min_replace)\n",
    ") \n",
    "df_outliers_plot = (\n",
    "    df_rules_outliers.copy()\n",
    "    .replace(np.inf, max_replace)\n",
    "    .replace(-np.inf, min_replace)\n",
    ")\n",
    "\n",
    "plot_2D(df_inliers_plot, df_anomalies, title = method + ' (Inliers)')\n",
    "plot_2D(df_outliers_plot, df_anomalies, title = method + ' (Outliers)')"
   ]
  },
  {
   "cell_type": "markdown",
   "metadata": {},
   "source": [
    "### 3. XAI Metrics"
   ]
  },
  {
   "cell_type": "code",
   "execution_count": 7,
   "metadata": {},
   "outputs": [
    {
     "name": "stdout",
     "output_type": "stream",
     "text": [
      "              precision    recall  f1-score   support\n",
      "\n",
      "    outliers       0.21      0.33      0.26       229\n",
      "     inliers       0.92      0.87      0.89      2143\n",
      "\n",
      "    accuracy                           0.82      2372\n",
      "   macro avg       0.57      0.60      0.58      2372\n",
      "weighted avg       0.85      0.82      0.83      2372\n",
      "\n"
     ]
    }
   ],
   "source": [
    "# Precision (unsupervised model predictions vs ground truth)\n",
    "target_names = ['outliers', 'inliers']\n",
    "y_true = df_anomalies['target_class']\n",
    "y_pred = df_anomalies['predictions']\n",
    "print(classification_report(y_true, y_pred, target_names=target_names))"
   ]
  },
  {
   "cell_type": "code",
   "execution_count": 8,
   "metadata": {
    "collapsed": true
   },
   "outputs": [],
   "source": [
    "# Comprehensibility\n",
    "n_rules_inliers = len(df_rules_inliers)\n",
    "n_rules_outliers = len(df_rules_outliers)\n",
    "mean_rule_size_inliers = df_rules_inliers['size_rules'].mean()\n",
    "mean_rule_size_outliers = df_rules_outliers['size_rules'].mean()"
   ]
  },
  {
   "cell_type": "code",
   "execution_count": null,
   "metadata": {},
   "outputs": [
    {
     "name": "stdout",
     "output_type": "stream",
     "text": [
      "Getting rule predictions...\n",
      "Iter 0/2372\n",
      "Iter 500/2372\n",
      "Iter 1000/2372\n",
      "Iter 1500/2372\n"
     ]
    }
   ],
   "source": [
    "# Fidelity/Representativeness/Focus on Abnormal\n",
    "df_rules_inliers, df_rules_outliers, df_anomalies = checkFidelity(\n",
    "    df_anomalies, df_rules_inliers, df_rules_outliers, numerical_cols, \n",
    "    categorical_cols\n",
    "    )\n",
    "df_rules_inliers.head()"
   ]
  },
  {
   "cell_type": "code",
   "execution_count": null,
   "metadata": {},
   "outputs": [],
   "source": [
    "# Stability\n",
    "df_rules_inliers = checkStability(df_anomalies, df_rules_inliers, clf,\n",
    "                                  numerical_cols, categorical_cols,\n",
    "                                  using_inliers = True)\n",
    "df_rules_outliers = checkStability(df_anomalies, df_rules_outliers, clf,\n",
    "                                   numerical_cols, categorical_cols,\n",
    "                                   using_inliers = False)\n",
    "df_rules_inliers.head()"
   ]
  },
  {
   "cell_type": "code",
   "execution_count": null,
   "metadata": {},
   "outputs": [],
   "source": [
    "# Diversity\n",
    "df_rules_inliers, _ = checkDiversity(df_rules_inliers, \n",
    "                                     numerical_cols, \n",
    "                                     categorical_cols)\n",
    "df_rules_outliers, _ = checkDiversity(df_rules_outliers, \n",
    "                                      numerical_cols, \n",
    "                                      categorical_cols)\n",
    "df_rules_inliers.head()"
   ]
  },
  {
   "cell_type": "code",
   "execution_count": null,
   "metadata": {
    "collapsed": true
   },
   "outputs": [],
   "source": []
  }
 ],
 "metadata": {
  "kernelspec": {
   "display_name": "myenv",
   "language": "python",
   "name": "myenv"
  },
  "language_info": {
   "codemirror_mode": {
    "name": "ipython",
    "version": 3
   },
   "file_extension": ".py",
   "mimetype": "text/x-python",
   "name": "python",
   "nbconvert_exporter": "python",
   "pygments_lexer": "ipython3",
   "version": "3.7.1"
  },
  "varInspector": {
   "cols": {
    "lenName": 16,
    "lenType": 16,
    "lenVar": 40
   },
   "kernels_config": {
    "python": {
     "delete_cmd_postfix": "",
     "delete_cmd_prefix": "del ",
     "library": "var_list.py",
     "varRefreshCmd": "print(var_dic_list())"
    },
    "r": {
     "delete_cmd_postfix": ") ",
     "delete_cmd_prefix": "rm(",
     "library": "var_list.r",
     "varRefreshCmd": "cat(var_dic_list()) "
    }
   },
   "types_to_exclude": [
    "module",
    "function",
    "builtin_function_or_method",
    "instance",
    "_Feature"
   ],
   "window_display": false
  }
 },
 "nbformat": 4,
 "nbformat_minor": 2
}
