{
 "cells": [
  {
   "cell_type": "markdown",
   "metadata": {},
   "source": [
    "# Rule Extraction and XAI metrics"
   ]
  },
  {
   "cell_type": "code",
   "execution_count": 3,
   "metadata": {
    "scrolled": true
   },
   "outputs": [],
   "source": [
    "import numpy as np\n",
    "import pandas as pd\n",
    "import os\n",
    "import sys\n",
    "import warnings\n",
    "warnings.filterwarnings(\"ignore\")\n",
    "\n",
    "from sklearn.ensemble import IsolationForest\n",
    "from sklearn.metrics import classification_report\n",
    "from lib.xai_auxiliary_rule_extraction import generateRuleHypercubes\n",
    "from lib.xai_rule_metrics import (checkFidelity, \n",
    "                                  checkStability,\n",
    "                                  checkDiversity)\n",
    "from lib.xai_tools import plot_2D, loadDatasets"
   ]
  },
  {
   "cell_type": "markdown",
   "metadata": {},
   "source": [
    "### 1. Load Data & Get Anomalies"
   ]
  },
  {
   "cell_type": "code",
   "execution_count": 4,
   "metadata": {},
   "outputs": [
    {
     "data": {
      "text/html": [
       "<div>\n",
       "<style scoped>\n",
       "    .dataframe tbody tr th:only-of-type {\n",
       "        vertical-align: middle;\n",
       "    }\n",
       "\n",
       "    .dataframe tbody tr th {\n",
       "        vertical-align: top;\n",
       "    }\n",
       "\n",
       "    .dataframe thead th {\n",
       "        text-align: right;\n",
       "    }\n",
       "</style>\n",
       "<table border=\"1\" class=\"dataframe\">\n",
       "  <thead>\n",
       "    <tr style=\"text-align: right;\">\n",
       "      <th></th>\n",
       "      <th>gdenergy</th>\n",
       "      <th>gdpuls</th>\n",
       "      <th>target_class</th>\n",
       "    </tr>\n",
       "  </thead>\n",
       "  <tbody>\n",
       "    <tr>\n",
       "      <th>0</th>\n",
       "      <td>-72</td>\n",
       "      <td>-72</td>\n",
       "      <td>1</td>\n",
       "    </tr>\n",
       "    <tr>\n",
       "      <th>1</th>\n",
       "      <td>-70</td>\n",
       "      <td>-79</td>\n",
       "      <td>1</td>\n",
       "    </tr>\n",
       "    <tr>\n",
       "      <th>2</th>\n",
       "      <td>-81</td>\n",
       "      <td>-78</td>\n",
       "      <td>1</td>\n",
       "    </tr>\n",
       "    <tr>\n",
       "      <th>3</th>\n",
       "      <td>-23</td>\n",
       "      <td>40</td>\n",
       "      <td>1</td>\n",
       "    </tr>\n",
       "    <tr>\n",
       "      <th>4</th>\n",
       "      <td>-63</td>\n",
       "      <td>-52</td>\n",
       "      <td>1</td>\n",
       "    </tr>\n",
       "  </tbody>\n",
       "</table>\n",
       "</div>"
      ],
      "text/plain": [
       "   gdenergy  gdpuls  target_class\n",
       "0       -72     -72             1\n",
       "1       -70     -79             1\n",
       "2       -81     -78             1\n",
       "3       -23      40             1\n",
       "4       -63     -52             1"
      ]
     },
     "execution_count": 4,
     "metadata": {},
     "output_type": "execute_result"
    }
   ],
   "source": [
    "# Load data\n",
    "df_input, _, _ = loadDatasets(f_name = \"seismic-bumps\")\n",
    "numerical_cols = [\"gdenergy\", \"gdpuls\"]  # 2D\n",
    "categorical_cols = []\n",
    "df_input = (df_input[numerical_cols + categorical_cols + ['target_class']]\n",
    "            .drop_duplicates(subset = numerical_cols + categorical_cols)\n",
    "            )\n",
    "df_input.head()"
   ]
  },
  {
   "cell_type": "code",
   "execution_count": 5,
   "metadata": {},
   "outputs": [
    {
     "data": {
      "text/html": [
       "<div>\n",
       "<style scoped>\n",
       "    .dataframe tbody tr th:only-of-type {\n",
       "        vertical-align: middle;\n",
       "    }\n",
       "\n",
       "    .dataframe tbody tr th {\n",
       "        vertical-align: top;\n",
       "    }\n",
       "\n",
       "    .dataframe thead th {\n",
       "        text-align: right;\n",
       "    }\n",
       "</style>\n",
       "<table border=\"1\" class=\"dataframe\">\n",
       "  <thead>\n",
       "    <tr style=\"text-align: right;\">\n",
       "      <th></th>\n",
       "      <th>gdenergy</th>\n",
       "      <th>gdpuls</th>\n",
       "      <th>target_class</th>\n",
       "      <th>predictions</th>\n",
       "      <th>dist</th>\n",
       "      <th>score</th>\n",
       "    </tr>\n",
       "  </thead>\n",
       "  <tbody>\n",
       "    <tr>\n",
       "      <th>0</th>\n",
       "      <td>-72</td>\n",
       "      <td>-72</td>\n",
       "      <td>1</td>\n",
       "      <td>1</td>\n",
       "      <td>0.006566</td>\n",
       "      <td>0.006566</td>\n",
       "    </tr>\n",
       "    <tr>\n",
       "      <th>1</th>\n",
       "      <td>-70</td>\n",
       "      <td>-79</td>\n",
       "      <td>1</td>\n",
       "      <td>-1</td>\n",
       "      <td>-0.009646</td>\n",
       "      <td>-0.009646</td>\n",
       "    </tr>\n",
       "    <tr>\n",
       "      <th>2</th>\n",
       "      <td>-81</td>\n",
       "      <td>-78</td>\n",
       "      <td>1</td>\n",
       "      <td>-1</td>\n",
       "      <td>-0.031926</td>\n",
       "      <td>-0.031926</td>\n",
       "    </tr>\n",
       "    <tr>\n",
       "      <th>3</th>\n",
       "      <td>-23</td>\n",
       "      <td>40</td>\n",
       "      <td>1</td>\n",
       "      <td>1</td>\n",
       "      <td>0.025130</td>\n",
       "      <td>0.025130</td>\n",
       "    </tr>\n",
       "    <tr>\n",
       "      <th>4</th>\n",
       "      <td>-63</td>\n",
       "      <td>-52</td>\n",
       "      <td>1</td>\n",
       "      <td>1</td>\n",
       "      <td>0.067058</td>\n",
       "      <td>0.067058</td>\n",
       "    </tr>\n",
       "  </tbody>\n",
       "</table>\n",
       "</div>"
      ],
      "text/plain": [
       "   gdenergy  gdpuls  target_class  predictions      dist     score\n",
       "0       -72     -72             1            1  0.006566  0.006566\n",
       "1       -70     -79             1           -1 -0.009646 -0.009646\n",
       "2       -81     -78             1           -1 -0.031926 -0.031926\n",
       "3       -23      40             1            1  0.025130  0.025130\n",
       "4       -63     -52             1            1  0.067058  0.067058"
      ]
     },
     "execution_count": 5,
     "metadata": {},
     "output_type": "execute_result"
    }
   ],
   "source": [
    "# Train model & Get predictions\n",
    "df_train = df_input.copy().drop(columns=['target_class'])\n",
    "clf = IsolationForest()\n",
    "y_pred_train = clf.fit_predict(df_train)\n",
    "dist = clf.decision_function(df_train)\n",
    "df_anomalies = df_input.copy()\n",
    "df_anomalies[\"predictions\"] = y_pred_train\n",
    "df_anomalies[\"dist\"] = dist\n",
    "df_anomalies[\"score\"] = clf.decision_function(df_train)\n",
    "df_anomalies.head()"
   ]
  },
  {
   "cell_type": "code",
   "execution_count": 6,
   "metadata": {
    "collapsed": true
   },
   "outputs": [],
   "source": [
    "# Paths\n",
    "path_folder = \"pruebasIF\"\n",
    "file_template = \"DT_IF\"\n",
    "\n",
    "method = \"DecisionTree\"\n",
    "# list_methods = [\"DecisionTree\", \"RuleFit\", \"FRL\", \"SkopeRules\", \"DecisionRuleList\", \"brlg\", \"logrr\"]"
   ]
  },
  {
   "cell_type": "markdown",
   "metadata": {},
   "source": [
    "### 2. Get Rules as Hypercubes"
   ]
  },
  {
   "cell_type": "code",
   "execution_count": 7,
   "metadata": {
    "scrolled": true
   },
   "outputs": [
    {
     "name": "stdout",
     "output_type": "stream",
     "text": [
      "Depth tree:  14\n",
      "Nodes tree:  93\n",
      "leaf nodes not anomalies:  51\n",
      "tree rules not anomalies:  24\n",
      "tree rules anomalies:  16\n",
      "Turning rules to hypercubes...\n",
      "Prunning the rules obtained...\n",
      "Iter 0/19\n",
      "Iter 1/19\n",
      "Iter 2/19\n",
      "Iter 3/19\n",
      "Iter 4/19\n",
      "Iter 5/19\n",
      "Iter 6/19\n",
      "Iter 7/19\n",
      "Iter 8/19\n",
      "Iter 9/19\n",
      "Iter 10/19\n",
      "Iter 11/19\n",
      "Iter 12/19\n",
      "Iter 13/19\n",
      "Iter 14/19\n",
      "Iter 15/19\n",
      "Iter 16/19\n",
      "Iter 17/19\n",
      "Iter 18/19\n",
      "No more improvements... finishing up\n",
      "Turning rules to hypercubes...\n",
      "Prunning the rules obtained...\n",
      "Iter 0/26\n",
      "Iter 1/26\n",
      "Iter 2/26\n",
      "Iter 3/26\n",
      "Iter 4/26\n",
      "Iter 5/26\n",
      "Iter 6/26\n",
      "Iter 7/26\n",
      "Iter 8/26\n",
      "Iter 9/26\n",
      "Iter 10/26\n",
      "Iter 11/26\n",
      "Iter 12/26\n",
      "Iter 13/26\n",
      "Iter 14/26\n",
      "Iter 15/26\n",
      "Iter 16/26\n",
      "Iter 17/26\n",
      "Iter 18/26\n",
      "Iter 19/26\n",
      "Iter 20/26\n",
      "Iter 21/26\n",
      "Iter 22/26\n",
      "Iter 23/26\n",
      "Iter 24/26\n",
      "Iter 25/26\n",
      "No more improvements... finishing up\n"
     ]
    },
    {
     "data": {
      "text/html": [
       "<div>\n",
       "<style scoped>\n",
       "    .dataframe tbody tr th:only-of-type {\n",
       "        vertical-align: middle;\n",
       "    }\n",
       "\n",
       "    .dataframe tbody tr th {\n",
       "        vertical-align: top;\n",
       "    }\n",
       "\n",
       "    .dataframe thead th {\n",
       "        text-align: right;\n",
       "    }\n",
       "</style>\n",
       "<table border=\"1\" class=\"dataframe\">\n",
       "  <thead>\n",
       "    <tr style=\"text-align: right;\">\n",
       "      <th></th>\n",
       "      <th>gdenergy_max</th>\n",
       "      <th>gdenergy_min</th>\n",
       "      <th>gdpuls_max</th>\n",
       "      <th>gdpuls_min</th>\n",
       "      <th>size_rules</th>\n",
       "      <th>rule_prediction</th>\n",
       "    </tr>\n",
       "    <tr>\n",
       "      <th>index</th>\n",
       "      <th></th>\n",
       "      <th></th>\n",
       "      <th></th>\n",
       "      <th></th>\n",
       "      <th></th>\n",
       "      <th></th>\n",
       "    </tr>\n",
       "  </thead>\n",
       "  <tbody>\n",
       "    <tr>\n",
       "      <th>0</th>\n",
       "      <td>-16.5</td>\n",
       "      <td>-77.0</td>\n",
       "      <td>-67.5</td>\n",
       "      <td>-72.5</td>\n",
       "      <td>9</td>\n",
       "      <td>1</td>\n",
       "    </tr>\n",
       "    <tr>\n",
       "      <th>10</th>\n",
       "      <td>109.5</td>\n",
       "      <td>-inf</td>\n",
       "      <td>92.0</td>\n",
       "      <td>49.5</td>\n",
       "      <td>6</td>\n",
       "      <td>1</td>\n",
       "    </tr>\n",
       "    <tr>\n",
       "      <th>2</th>\n",
       "      <td>19.0</td>\n",
       "      <td>-78.5</td>\n",
       "      <td>-44.5</td>\n",
       "      <td>-67.5</td>\n",
       "      <td>10</td>\n",
       "      <td>1</td>\n",
       "    </tr>\n",
       "    <tr>\n",
       "      <th>4</th>\n",
       "      <td>91.5</td>\n",
       "      <td>91.5</td>\n",
       "      <td>-3.5</td>\n",
       "      <td>-44.5</td>\n",
       "      <td>13</td>\n",
       "      <td>1</td>\n",
       "    </tr>\n",
       "    <tr>\n",
       "      <th>5</th>\n",
       "      <td>-48.5</td>\n",
       "      <td>-76.5</td>\n",
       "      <td>80.5</td>\n",
       "      <td>-44.5</td>\n",
       "      <td>12</td>\n",
       "      <td>1</td>\n",
       "    </tr>\n",
       "  </tbody>\n",
       "</table>\n",
       "</div>"
      ],
      "text/plain": [
       "       gdenergy_max  gdenergy_min  gdpuls_max  gdpuls_min  size_rules  \\\n",
       "index                                                                   \n",
       "0             -16.5         -77.0       -67.5       -72.5           9   \n",
       "10            109.5          -inf        92.0        49.5           6   \n",
       "2              19.0         -78.5       -44.5       -67.5          10   \n",
       "4              91.5          91.5        -3.5       -44.5          13   \n",
       "5             -48.5         -76.5        80.5       -44.5          12   \n",
       "\n",
       "       rule_prediction  \n",
       "index                   \n",
       "0                    1  \n",
       "10                   1  \n",
       "2                    1  \n",
       "4                    1  \n",
       "5                    1  "
      ]
     },
     "execution_count": 7,
     "metadata": {},
     "output_type": "execute_result"
    }
   ],
   "source": [
    "## 1. Get Rules (Hypercube)\n",
    "# Define hyperparams for the XAI model\n",
    "model_params = {}\n",
    "# Generate rules hypercubes\n",
    "df_rules_inliers, df_rules_outliers = generateRuleHypercubes(\n",
    "    df_anomalies = df_anomalies,\n",
    "    numerical_cols = numerical_cols,\n",
    "    categorical_cols = categorical_cols,\n",
    "    method = method,\n",
    "    simplify_rules = True,\n",
    "    model_params = model_params,\n",
    ")\n",
    "df_rules_inliers.head()"
   ]
  },
  {
   "cell_type": "code",
   "execution_count": 8,
   "metadata": {},
   "outputs": [
    {
     "data": {
      "image/png": "[encoded data removed]",
      "text/plain": [
       "<Figure size 864x576 with 1 Axes>"
      ]
     },
     "metadata": {
      "needs_background": "light"
     },
     "output_type": "display_data"
    },
    {
     "data": {
      "image/png": "[encoded data removed]",
      "text/plain": [
       "<Figure size 864x576 with 1 Axes>"
      ]
     },
     "metadata": {
      "needs_background": "light"
     },
     "output_type": "display_data"
    }
   ],
   "source": [
    "## 2. Plot Results [Only for 2D]\n",
    "max_replace = df_input.max().max() + np.abs(df_input.max().max()) * 0.1\n",
    "min_replace = df_input.min().min() - np.abs(df_input.min().min()) * 0.1\n",
    "df_inliers_plot = (\n",
    "    df_rules_inliers.copy()\n",
    "    .replace(np.inf, max_replace)\n",
    "    .replace(-np.inf, min_replace)\n",
    ") \n",
    "df_outliers_plot = (\n",
    "    df_rules_outliers.copy()\n",
    "    .replace(np.inf, max_replace)\n",
    "    .replace(-np.inf, min_replace)\n",
    ")\n",
    "\n",
    "plot_2D(df_inliers_plot, df_anomalies, title = method + ' (Inliers)')\n",
    "plot_2D(df_outliers_plot, df_anomalies, title = method + ' (Outliers)')"
   ]
  },
  {
   "cell_type": "markdown",
   "metadata": {},
   "source": [
    "### 3. XAI Metrics"
   ]
  },
  {
   "cell_type": "code",
   "execution_count": 9,
   "metadata": {},
   "outputs": [
    {
     "name": "stdout",
     "output_type": "stream",
     "text": [
      "              precision    recall  f1-score   support\n",
      "\n",
      "    outliers       0.20      0.35      0.25       229\n",
      "     inliers       0.92      0.85      0.88      2143\n",
      "\n",
      "    accuracy                           0.80      2372\n",
      "   macro avg       0.56      0.60      0.57      2372\n",
      "weighted avg       0.85      0.80      0.82      2372\n",
      "\n"
     ]
    }
   ],
   "source": [
    "# Precision (unsupervised model predictions vs ground truth)\n",
    "target_names = ['outliers', 'inliers']\n",
    "y_true = df_anomalies['target_class']\n",
    "y_pred = df_anomalies['predictions']\n",
    "print(classification_report(y_true, y_pred, target_names=target_names))"
   ]
  },
  {
   "cell_type": "code",
   "execution_count": 10,
   "metadata": {
    "collapsed": true
   },
   "outputs": [],
   "source": [
    "# Comprehensibility\n",
    "n_rules_inliers = len(df_rules_inliers)\n",
    "n_rules_outliers = len(df_rules_outliers)\n",
    "mean_rule_size_inliers = df_rules_inliers['size_rules'].mean()\n",
    "mean_rule_size_outliers = df_rules_outliers['size_rules'].mean()"
   ]
  },
  {
   "cell_type": "code",
   "execution_count": null,
   "metadata": {},
   "outputs": [
    {
     "name": "stdout",
     "output_type": "stream",
     "text": [
      "Getting rule predictions...\n",
      "Iter 0/2372\n",
      "Iter 500/2372\n",
      "Iter 1000/2372\n",
      "Iter 1500/2372\n",
      "Iter 2500/2372\n",
      "\n",
      "Getting rule coverage...\n",
      "Iter 0/2372\n",
      "Iter 500/2372\n"
     ]
    }
   ],
   "source": [
    "# Fidelity/Representativeness/Focus on Abnormal\n",
    "df_rules_inliers, df_rules_outliers, df_anomalies = checkFidelity(\n",
    "    df_anomalies, df_rules_inliers, df_rules_outliers, numerical_cols, \n",
    "    categorical_cols\n",
    "    )\n",
    "df_rules_inliers.head()"
   ]
  },
  {
   "cell_type": "code",
   "execution_count": null,
   "metadata": {},
   "outputs": [],
   "source": [
    "# Stability\n",
    "df_rules_inliers = checkStability(df_anomalies, df_rules_inliers, clf,\n",
    "                                  numerical_cols, categorical_cols,\n",
    "                                  using_inliers = True)\n",
    "df_rules_outliers = checkStability(df_anomalies, df_rules_outliers, clf,\n",
    "                                   numerical_cols, categorical_cols,\n",
    "                                   using_inliers = False)\n",
    "df_rules_inliers.head()"
   ]
  },
  {
   "cell_type": "code",
   "execution_count": null,
   "metadata": {},
   "outputs": [],
   "source": [
    "# Diversity\n",
    "df_rules_inliers, _ = checkDiversity(df_rules_inliers, \n",
    "                                     numerical_cols, \n",
    "                                     categorical_cols)\n",
    "df_rules_outliers, _ = checkDiversity(df_rules_outliers, \n",
    "                                      numerical_cols, \n",
    "                                      categorical_cols)\n",
    "df_rules_inliers.head()"
   ]
  }
 ],
 "metadata": {
  "kernelspec": {
   "display_name": "myenv",
   "language": "python",
   "name": "myenv"
  },
  "varInspector": {
   "cols": {
    "lenName": 16,
    "lenType": 16,
    "lenVar": 40
   },
   "kernels_config": {
    "python": {
     "delete_cmd_postfix": "",
     "delete_cmd_prefix": "del ",
     "library": "var_list.py",
     "varRefreshCmd": "print(var_dic_list())"
    },
    "r": {
     "delete_cmd_postfix": ") ",
     "delete_cmd_prefix": "rm(",
     "library": "var_list.r",
     "varRefreshCmd": "cat(var_dic_list()) "
    }
   },
   "types_to_exclude": [
    "module",
    "function",
    "builtin_function_or_method",
    "instance",
    "_Feature"
   ],
   "window_display": false
  }
 },
 "nbformat": 4,
 "nbformat_minor": 2
}
